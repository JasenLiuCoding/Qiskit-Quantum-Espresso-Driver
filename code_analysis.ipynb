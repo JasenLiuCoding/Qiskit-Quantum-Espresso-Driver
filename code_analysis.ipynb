{
 "cells": [
  {
   "cell_type": "markdown",
   "metadata": {},
   "source": [
    "#### Introduce package"
   ]
  },
  {
   "cell_type": "code",
   "execution_count": 3,
   "metadata": {},
   "outputs": [],
   "source": [
    "from ase.io.cube import read_cube_data"
   ]
  },
  {
   "cell_type": "markdown",
   "metadata": {},
   "source": [
    "#### Data loading "
   ]
  },
  {
   "cell_type": "code",
   "execution_count": 4,
   "metadata": {},
   "outputs": [],
   "source": [
    "data, atoms = read_cube_data('qe_files/n2/output/homo-restricted.cube')"
   ]
  },
  {
   "cell_type": "code",
   "execution_count": 7,
   "metadata": {},
   "outputs": [
    {
     "data": {
      "text/plain": [
       "<_io.TextIOWrapper name='qe_files/n2/output/pspw_hf_LiH.movecs' mode='r' encoding='UTF-8'>"
      ]
     },
     "execution_count": 7,
     "metadata": {},
     "output_type": "execute_result"
    }
   ],
   "source": []
  },
  {
   "cell_type": "markdown",
   "metadata": {},
   "source": [
    "#### one-electron integrals"
   ]
  },
  {
   "cell_type": "code",
   "execution_count": 1,
   "metadata": {},
   "outputs": [],
   "source": [
    "def calc_h_ij(self, p, c_ip_up, c_ip_dw, atoms, cell_volume):\n",
    "    # Kinetic energy\n",
    "    iTj_up = calc_matrix_elements.iTj(self.p, self.c_ip_up)\n",
    "    iTj_dw = calc_matrix_elements.iTj(self.p, self.c_ip_dw)\n",
    "\n",
    "    # Nuclear repulsion\n",
    "    iUj_up = calc_matrix_elements.iUj(\n",
    "        p,\n",
    "        c_ip_up,\n",
    "        atoms,\n",
    "        cell_volume,\n",
    "    )\n",
    "    iUj_dw = calc_matrix_elements.iUj(\n",
    "        p,\n",
    "        c_ip_dw,\n",
    "        atoms,\n",
    "        cell_volume,\n",
    "    )\n",
    "\n",
    "    h_ij_up = iTj_up - iUj_up\n",
    "    h_ij_dw = iTj_dw - iUj_dw\n",
    "\n",
    "    return h_ij_up, h_ij_dw"
   ]
  },
  {
   "cell_type": "markdown",
   "metadata": {},
   "source": [
    "#### Two-electron integrals"
   ]
  },
  {
   "cell_type": "code",
   "execution_count": null,
   "metadata": {},
   "outputs": [],
   "source": [
    "def calc_eri(self):\n",
    "    # Calculate ERIs via pair density\n",
    "    assert (\n",
    "        self.wfc_up_obj.gamma_only\n",
    "    ), \"Calculating ERIs via pair densities is only implemented for the gamma-point!\"\n",
    "    assert (\n",
    "        self.wfc_dw_obj.gamma_only\n",
    "    ), \"Calculating ERIs via pair densities is only implemented for the gamma-point!\"\n",
    "\n",
    "    eri_up: np.ndarray = (\n",
    "        eri_pair_densities.eri_gamma(p=self.p, c_ip_up=self.c_ip_up)\n",
    "        / self.wfc_up_obj.cell_volume\n",
    "    )\n",
    "    eri_dw: np.ndarray = (\n",
    "        eri_pair_densities.eri_gamma(p=self.p, c_ip_up=self.c_ip_dw)\n",
    "        / self.wfc_dw_obj.cell_volume\n",
    "    )\n",
    "    eri_dw_up: np.ndarray = (\n",
    "        eri_pair_densities.eri_gamma(\n",
    "            p=self.p, c_ip_up=self.c_ip_up, c_ip_dw=self.c_ip_dw\n",
    "        )\n",
    "        / self.wfc_dw_obj.cell_volume\n",
    "    )\n",
    "    # eri_up_dw: np.ndarray = (\n",
    "    #     eri_pair_densities.eri_gamma(\n",
    "    #         p=self.p, c_ip_up=self.c_ip_dw, c_ip_dw=self.c_ip_up\n",
    "    #     )\n",
    "    #     / self.wfc_dw_obj.cell_volume\n",
    "    # )\n",
    "    eri_up_dw: np.ndarray = eri_dw_up.swapaxes(0, 1).swapaxes(2, 3)\n",
    "\n",
    "    return eri_up, eri_dw, eri_dw_up, eri_up_dw"
   ]
  }
 ],
 "metadata": {
  "kernelspec": {
   "display_name": "project_practice",
   "language": "python",
   "name": "python3"
  },
  "language_info": {
   "codemirror_mode": {
    "name": "ipython",
    "version": 3
   },
   "file_extension": ".py",
   "mimetype": "text/x-python",
   "name": "python",
   "nbconvert_exporter": "python",
   "pygments_lexer": "ipython3",
   "version": "3.11.9"
  }
 },
 "nbformat": 4,
 "nbformat_minor": 2
}
