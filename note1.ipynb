{
 "cells": [
  {
   "cell_type": "markdown",
   "metadata": {},
   "source": [
    "# Code reasoning "
   ]
  },
  {
   "cell_type": "markdown",
   "metadata": {},
   "source": [
    "### 1. introduce package "
   ]
  },
  {
   "cell_type": "code",
   "execution_count": 1,
   "metadata": {},
   "outputs": [],
   "source": [
    "import os\n",
    "from qiskit_nature_qe import qe_driver\n",
    "from qiskit_algorithms import NumPyMinimumEigensolver\n",
    "from qiskit_nature.second_q.mappers import JordanWignerMapper\n",
    "from qiskit_nature.second_q.algorithms import GroundStateEigensolver\n",
    "from qiskit.exceptions import QiskitError"
   ]
  },
  {
   "cell_type": "markdown",
   "metadata": {},
   "source": [
    "### 2. load data and initial driver"
   ]
  },
  {
   "cell_type": "code",
   "execution_count": 4,
   "metadata": {},
   "outputs": [],
   "source": [
    "hdf5_up_file = os.path.join(\n",
    "    \"qe_files\", \"out_H2_spin\", \"H2_spin.save\", \"wfcup1.hdf5\"\n",
    ")\n",
    "hdf5_dw_file = os.path.join(\n",
    "    \"qe_files\", \"out_H2_spin\", \"H2_spin.save\", \"wfcdw1.hdf5\"\n",
    ")\n",
    "xml_file = os.path.join(\n",
    "    \"qe_files\", \"out_H2_spin\", \"H2_spin.save\", \"data-file-schema.xml\"\n",
    ")\n",
    "driver = qe_driver.QE_Driver([hdf5_up_file, hdf5_dw_file], xml_file)"
   ]
  },
  {
   "cell_type": "markdown",
   "metadata": {},
   "source": [
    "### 3. Transfer problem to qiskit electron stucture problem"
   ]
  },
  {
   "cell_type": "code",
   "execution_count": 5,
   "metadata": {},
   "outputs": [
    {
     "name": "stdout",
     "output_type": "stream",
     "text": [
      "h_ij up-down equal: False\n",
      "eri up-down equal: False\n",
      "eri up-(down-up) equal: False\n",
      "eri (up-down)-(down-up) equal: False\n"
     ]
    },
    {
     "ename": "UFuncTypeError",
     "evalue": "Cannot cast ufunc 'subtract' output from dtype('complex128') to dtype('float64') with casting rule 'same_kind'",
     "output_type": "error",
     "traceback": [
      "\u001b[0;31m---------------------------------------------------------------------------\u001b[0m",
      "\u001b[0;31mUFuncTypeError\u001b[0m                            Traceback (most recent call last)",
      "Cell \u001b[0;32mIn[5], line 1\u001b[0m\n\u001b[0;32m----> 1\u001b[0m problem \u001b[38;5;241m=\u001b[39m \u001b[43mdriver\u001b[49m\u001b[38;5;241;43m.\u001b[39;49m\u001b[43mrun\u001b[49m\u001b[43m(\u001b[49m\u001b[43m)\u001b[49m\n",
      "File \u001b[0;32m~/Develop/Qiskit-Quantum-Espresso-Driver/qiskit_nature_qe/qe_driver.py:108\u001b[0m, in \u001b[0;36mQE_Driver.run\u001b[0;34m(self)\u001b[0m\n\u001b[1;32m    107\u001b[0m \u001b[38;5;28;01mdef\u001b[39;00m \u001b[38;5;21mrun\u001b[39m(\u001b[38;5;28mself\u001b[39m\u001b[38;5;241m=\u001b[39m\u001b[38;5;28;01mTrue\u001b[39;00m) \u001b[38;5;241m-\u001b[39m\u001b[38;5;241m>\u001b[39m ElectronicStructureProblem:\n\u001b[0;32m--> 108\u001b[0m     \u001b[38;5;28;01mreturn\u001b[39;00m \u001b[38;5;28;43mself\u001b[39;49m\u001b[38;5;241;43m.\u001b[39;49m\u001b[43mto_problem\u001b[49m\u001b[43m(\u001b[49m\u001b[43m)\u001b[49m\n",
      "File \u001b[0;32m~/Develop/Qiskit-Quantum-Espresso-Driver/qiskit_nature_qe/qe_driver.py:128\u001b[0m, in \u001b[0;36mQE_Driver.to_problem\u001b[0;34m(self, basis, include_dipole)\u001b[0m\n\u001b[1;32m    124\u001b[0m include_dipole: \u001b[38;5;28mbool\u001b[39m \u001b[38;5;241m=\u001b[39m \u001b[38;5;28;01mFalse\u001b[39;00m\n\u001b[1;32m    126\u001b[0m qcschema \u001b[38;5;241m=\u001b[39m \u001b[38;5;28mself\u001b[39m\u001b[38;5;241m.\u001b[39mto_qcschema(include_dipole\u001b[38;5;241m=\u001b[39minclude_dipole)\n\u001b[0;32m--> 128\u001b[0m problem \u001b[38;5;241m=\u001b[39m \u001b[43mqcschema_to_problem\u001b[49m\u001b[43m(\u001b[49m\n\u001b[1;32m    129\u001b[0m \u001b[43m    \u001b[49m\u001b[43mqcschema\u001b[49m\u001b[43m,\u001b[49m\u001b[43m \u001b[49m\u001b[43mbasis\u001b[49m\u001b[38;5;241;43m=\u001b[39;49m\u001b[43mbasis\u001b[49m\u001b[43m,\u001b[49m\u001b[43m \u001b[49m\u001b[43minclude_dipole\u001b[49m\u001b[38;5;241;43m=\u001b[39;49m\u001b[43minclude_dipole\u001b[49m\n\u001b[1;32m    130\u001b[0m \u001b[43m\u001b[49m\u001b[43m)\u001b[49m\n\u001b[1;32m    132\u001b[0m \u001b[38;5;28;01mif\u001b[39;00m include_dipole \u001b[38;5;129;01mand\u001b[39;00m problem\u001b[38;5;241m.\u001b[39mproperties\u001b[38;5;241m.\u001b[39melectronic_dipole_moment \u001b[38;5;129;01mis\u001b[39;00m \u001b[38;5;129;01mnot\u001b[39;00m \u001b[38;5;28;01mNone\u001b[39;00m:\n\u001b[1;32m    133\u001b[0m     problem\u001b[38;5;241m.\u001b[39mproperties\u001b[38;5;241m.\u001b[39melectronic_dipole_moment\u001b[38;5;241m.\u001b[39mreverse_dipole_sign \u001b[38;5;241m=\u001b[39m \u001b[38;5;28;01mTrue\u001b[39;00m\n",
      "File \u001b[0;32m~/anaconda3/envs/project_practice/lib/python3.11/site-packages/qiskit_nature/second_q/formats/qcschema_translator.py:136\u001b[0m, in \u001b[0;36mqcschema_to_problem\u001b[0;34m(qcschema, basis, include_dipole)\u001b[0m\n\u001b[1;32m    134\u001b[0m problem\u001b[38;5;241m.\u001b[39mnum_spatial_orbitals \u001b[38;5;241m=\u001b[39m norb\n\u001b[1;32m    135\u001b[0m problem\u001b[38;5;241m.\u001b[39mreference_energy \u001b[38;5;241m=\u001b[39m qcschema\u001b[38;5;241m.\u001b[39mproperties\u001b[38;5;241m.\u001b[39mreturn_energy\n\u001b[0;32m--> 136\u001b[0m problem\u001b[38;5;241m.\u001b[39mproperties\u001b[38;5;241m.\u001b[39mangular_momentum \u001b[38;5;241m=\u001b[39m \u001b[43mAngularMomentum\u001b[49m\u001b[43m(\u001b[49m\u001b[43mnorb\u001b[49m\u001b[43m,\u001b[49m\u001b[43m \u001b[49m\u001b[43moverlap\u001b[49m\u001b[43m)\u001b[49m\n\u001b[1;32m    137\u001b[0m problem\u001b[38;5;241m.\u001b[39mproperties\u001b[38;5;241m.\u001b[39mmagnetization \u001b[38;5;241m=\u001b[39m Magnetization(norb)\n\u001b[1;32m    138\u001b[0m problem\u001b[38;5;241m.\u001b[39mproperties\u001b[38;5;241m.\u001b[39mparticle_number \u001b[38;5;241m=\u001b[39m ParticleNumber(norb)\n",
      "File \u001b[0;32m~/anaconda3/envs/project_practice/lib/python3.11/site-packages/qiskit_nature/second_q/properties/angular_momentum.py:66\u001b[0m, in \u001b[0;36mAngularMomentum.__init__\u001b[0;34m(self, num_spatial_orbitals, overlap)\u001b[0m\n\u001b[1;32m     64\u001b[0m \u001b[38;5;28mself\u001b[39m\u001b[38;5;241m.\u001b[39mnum_spatial_orbitals \u001b[38;5;241m=\u001b[39m num_spatial_orbitals\n\u001b[1;32m     65\u001b[0m \u001b[38;5;28mself\u001b[39m\u001b[38;5;241m.\u001b[39m_overlap: np\u001b[38;5;241m.\u001b[39mndarray \u001b[38;5;241m|\u001b[39m \u001b[38;5;28;01mNone\u001b[39;00m \u001b[38;5;241m=\u001b[39m \u001b[38;5;28;01mNone\u001b[39;00m\n\u001b[0;32m---> 66\u001b[0m \u001b[38;5;28;43mself\u001b[39;49m\u001b[38;5;241;43m.\u001b[39;49m\u001b[43moverlap\u001b[49m \u001b[38;5;241m=\u001b[39m overlap\n",
      "File \u001b[0;32m~/anaconda3/envs/project_practice/lib/python3.11/site-packages/qiskit_nature/second_q/properties/angular_momentum.py:83\u001b[0m, in \u001b[0;36mAngularMomentum.overlap\u001b[0;34m(self, overlap)\u001b[0m\n\u001b[1;32m     81\u001b[0m norb \u001b[38;5;241m=\u001b[39m \u001b[38;5;28mself\u001b[39m\u001b[38;5;241m.\u001b[39mnum_spatial_orbitals\n\u001b[1;32m     82\u001b[0m delta \u001b[38;5;241m=\u001b[39m np\u001b[38;5;241m.\u001b[39meye(\u001b[38;5;241m2\u001b[39m \u001b[38;5;241m*\u001b[39m norb)\n\u001b[0;32m---> 83\u001b[0m \u001b[43mdelta\u001b[49m\u001b[43m[\u001b[49m\u001b[43m:\u001b[49m\u001b[43mnorb\u001b[49m\u001b[43m,\u001b[49m\u001b[43m \u001b[49m\u001b[43m:\u001b[49m\u001b[43mnorb\u001b[49m\u001b[43m]\u001b[49m\u001b[43m \u001b[49m\u001b[38;5;241;43m-\u001b[39;49m\u001b[38;5;241;43m=\u001b[39;49m\u001b[43m \u001b[49m\u001b[43moverlap\u001b[49m\u001b[38;5;241;43m.\u001b[39;49m\u001b[43mT\u001b[49m\u001b[43m \u001b[49m\u001b[38;5;241;43m@\u001b[39;49m\u001b[43m \u001b[49m\u001b[43moverlap\u001b[49m\n\u001b[1;32m     84\u001b[0m delta[norb:, norb:] \u001b[38;5;241m-\u001b[39m\u001b[38;5;241m=\u001b[39m overlap \u001b[38;5;241m@\u001b[39m overlap\u001b[38;5;241m.\u001b[39mT\n\u001b[1;32m     85\u001b[0m summed \u001b[38;5;241m=\u001b[39m np\u001b[38;5;241m.\u001b[39meinsum(\u001b[38;5;124m\"\u001b[39m\u001b[38;5;124mij->\u001b[39m\u001b[38;5;124m\"\u001b[39m, np\u001b[38;5;241m.\u001b[39mabs(delta))\n",
      "\u001b[0;31mUFuncTypeError\u001b[0m: Cannot cast ufunc 'subtract' output from dtype('complex128') to dtype('float64') with casting rule 'same_kind'"
     ]
    }
   ],
   "source": [
    "problem = driver.run()"
   ]
  },
  {
   "cell_type": "code",
   "execution_count": null,
   "metadata": {},
   "outputs": [],
   "source": []
  }
 ],
 "metadata": {
  "kernelspec": {
   "display_name": "project_practice",
   "language": "python",
   "name": "python3"
  },
  "language_info": {
   "codemirror_mode": {
    "name": "ipython",
    "version": 3
   },
   "file_extension": ".py",
   "mimetype": "text/x-python",
   "name": "python",
   "nbconvert_exporter": "python",
   "pygments_lexer": "ipython3",
   "version": "3.11.9"
  }
 },
 "nbformat": 4,
 "nbformat_minor": 2
}
