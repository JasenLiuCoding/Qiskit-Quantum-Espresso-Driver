{
 "cells": [
  {
   "cell_type": "code",
   "execution_count": null,
   "metadata": {},
   "outputs": [],
   "source": [
    "import os "
   ]
  },
  {
   "cell_type": "code",
   "execution_count": null,
   "metadata": {},
   "outputs": [],
   "source": [
    "\n",
    "# file path \n",
    "nwchem_output_file = os.path.join(\n",
    "        \"qe_files\", \"3x3_periodic\", \"NWChem\", \"1covo\", \"H1Li1-1.3.out\"\n",
    "    )\n",
    "# load file\n",
    "with open(nwchem_output_file) as file:\n",
    "    "
   ]
  }
 ],
 "metadata": {
  "language_info": {
   "name": "python"
  }
 },
 "nbformat": 4,
 "nbformat_minor": 2
}
